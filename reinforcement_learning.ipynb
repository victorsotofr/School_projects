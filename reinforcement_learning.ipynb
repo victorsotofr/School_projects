{
 "cells": [
  {
   "cell_type": "code",
   "execution_count": 2,
   "metadata": {},
   "outputs": [],
   "source": [
    "import gymnasium as gym\n",
    "import numpy as np\n",
    "from IPython.display import clear_output\n",
    "from time import sleep"
   ]
  },
  {
   "cell_type": "markdown",
   "metadata": {},
   "source": [
    "## __The gym library__"
   ]
  },
  {
   "cell_type": "code",
   "execution_count": 3,
   "metadata": {},
   "outputs": [],
   "source": [
    "env = gym.make(\"Taxi-v3\", render_mode=\"human\")"
   ]
  },
  {
   "cell_type": "code",
   "execution_count": 4,
   "metadata": {},
   "outputs": [
    {
     "name": "stdout",
     "output_type": "stream",
     "text": [
      "Action Space: Discrete(6)\n",
      "Observation Space: Discrete(500)\n"
     ]
    }
   ],
   "source": [
    "# We check if the action space is discrete or continuous:\n",
    "print(\"Action Space:\", env.action_space)\n",
    "\n",
    "# We check if the observation space is discrete or continuous:\n",
    "print(\"Observation Space:\", env.observation_space)"
   ]
  },
  {
   "cell_type": "markdown",
   "metadata": {},
   "source": [
    "The action space is discrete with 6 actions, while the observation space is also discrete with 500 states."
   ]
  },
  {
   "cell_type": "code",
   "execution_count": 5,
   "metadata": {},
   "outputs": [],
   "source": [
    "state, _ = env.reset()\n",
    "env.unwrapped.s = 100\n",
    "env.render()"
   ]
  },
  {
   "cell_type": "code",
   "execution_count": 6,
   "metadata": {},
   "outputs": [
    {
     "name": "stdout",
     "output_type": "stream",
     "text": [
      "Transitions for state 100 and action 0:\n",
      "\n",
      "Probability: 1.0\n",
      "Next State: 200\n",
      "Reward: -1\n",
      "Done: False\n",
      "------------------------------\n"
     ]
    }
   ],
   "source": [
    "# We select the state and action to examine:\n",
    "state = 100  # Starting state\n",
    "action = 0  # Action to examine (move south here)\n",
    "\n",
    "# We print the transition probabilities:\n",
    "transitions = env.unwrapped.P[state][action]\n",
    "print(f\"Transitions for state {state} and action {action}:\\n\")\n",
    "for prob, next_state, reward, done in transitions:\n",
    "    print(f\"Probability: {prob}\")\n",
    "    print(f\"Next State: {next_state}\")\n",
    "    print(f\"Reward: {reward}\")\n",
    "    print(f\"Done: {done}\")\n",
    "    print(\"-\" * 30)\n",
    "\n",
    "# Visualize the environment\n",
    "env.unwrapped.s = state  # Set the environment to the desired state\n",
    "env.render()"
   ]
  },
  {
   "cell_type": "markdown",
   "metadata": {},
   "source": [
    "## __A basic agent__"
   ]
  },
  {
   "cell_type": "code",
   "execution_count": null,
   "metadata": {},
   "outputs": [],
   "source": [
    "from RL import Agent\n",
    "\n",
    "random_strategy = Agent(env)\n",
    "\n",
    "# Number of episodes\n",
    "num_episodes = 100\n",
    "\n",
    "# Initialize return storage\n",
    "returns = np.zeros(env.action_space.n)  # Average return for each action\n",
    "action_counts = np.zeros(env.action_space.n)  # Count of actions taken\n",
    "\n",
    "# Play episodes\n",
    "for episode in range(num_episodes):\n",
    "    state, _ = env.reset()\n",
    "    done = False\n",
    "    total_reward = 0\n",
    "    \n",
    "    while not done:\n",
    "        action = random_strategy.select_action(state)  # Random action\n",
    "        new_state, reward, terminated, truncated, info = env.step(action)\n",
    "        total_reward += reward\n",
    "        \n",
    "        # Update action counts and returns\n",
    "        action_counts[action] += 1\n",
    "        returns[action] += reward\n",
    "        \n",
    "        state = new_state\n",
    "        done = terminated or truncated\n",
    "\n",
    "# Calculate the average return per action\n",
    "average_returns = returns / action_counts\n",
    "average_returns[action_counts == 0] = 0  # Handle division by zero for actions not taken\n",
    "\n",
    "# Display average returns\n",
    "for action in range(env.action_space.n):\n",
    "    print(f\"Action {action}: Average Return = {average_returns[action]:.2f}\")"
   ]
  },
  {
   "cell_type": "markdown",
   "metadata": {},
   "source": [
    "## __Sarsa__"
   ]
  },
  {
   "cell_type": "code",
   "execution_count": 25,
   "metadata": {},
   "outputs": [
    {
     "name": "stdout",
     "output_type": "stream",
     "text": [
      "Unexpected exception formatting exception. Falling back to standard exception\n"
     ]
    },
    {
     "name": "stderr",
     "output_type": "stream",
     "text": [
      "Traceback (most recent call last):\n",
      "  File \"/Applications/anaconda3/envs/kaggle_env/lib/python3.9/site-packages/IPython/core/interactiveshell.py\", line 3550, in run_code\n",
      "    exec(code_obj, self.user_global_ns, self.user_ns)\n",
      "  File \"/var/folders/kw/8v5sq5616c9bt_3ddzy97nq40000gn/T/ipykernel_31365/1216885906.py\", line 7, in <module>\n",
      "    sarsa_agent = SarsaAgent(env)\n",
      "  File \"/Users/victor/Documents/Polytechnique/ML2/Lec6/_PC6/Lab6/reinforcement_learning_victor_SOTO/RL.py\", line 157, in __init__\n",
      "  File \"/Users/victor/Documents/Polytechnique/ML2/Lec6/_PC6/Lab6/reinforcement_learning_victor_SOTO/RL.py\", line 6, in __init__\n",
      "    def __init__(self, env, pol=None, Q=None):\n",
      "NameError: name 'gym' is not defined\n",
      "\n",
      "During handling of the above exception, another exception occurred:\n",
      "\n",
      "Traceback (most recent call last):\n",
      "  File \"/Applications/anaconda3/envs/kaggle_env/lib/python3.9/site-packages/IPython/core/interactiveshell.py\", line 2144, in showtraceback\n",
      "    stb = self.InteractiveTB.structured_traceback(\n",
      "  File \"/Applications/anaconda3/envs/kaggle_env/lib/python3.9/site-packages/IPython/core/ultratb.py\", line 1435, in structured_traceback\n",
      "    return FormattedTB.structured_traceback(\n",
      "  File \"/Applications/anaconda3/envs/kaggle_env/lib/python3.9/site-packages/IPython/core/ultratb.py\", line 1326, in structured_traceback\n",
      "    return VerboseTB.structured_traceback(\n",
      "  File \"/Applications/anaconda3/envs/kaggle_env/lib/python3.9/site-packages/IPython/core/ultratb.py\", line 1173, in structured_traceback\n",
      "    formatted_exception = self.format_exception_as_a_whole(etype, evalue, etb, number_of_lines_of_context,\n",
      "  File \"/Applications/anaconda3/envs/kaggle_env/lib/python3.9/site-packages/IPython/core/ultratb.py\", line 1088, in format_exception_as_a_whole\n",
      "    frames.append(self.format_record(record))\n",
      "  File \"/Applications/anaconda3/envs/kaggle_env/lib/python3.9/site-packages/IPython/core/ultratb.py\", line 970, in format_record\n",
      "    frame_info.lines, Colors, self.has_colors, lvals\n",
      "  File \"/Applications/anaconda3/envs/kaggle_env/lib/python3.9/site-packages/IPython/core/ultratb.py\", line 792, in lines\n",
      "    return self._sd.lines\n",
      "  File \"/Applications/anaconda3/envs/kaggle_env/lib/python3.9/site-packages/stack_data/utils.py\", line 145, in cached_property_wrapper\n",
      "    value = obj.__dict__[self.func.__name__] = self.func(obj)\n",
      "  File \"/Applications/anaconda3/envs/kaggle_env/lib/python3.9/site-packages/stack_data/core.py\", line 734, in lines\n",
      "    pieces = self.included_pieces\n",
      "  File \"/Applications/anaconda3/envs/kaggle_env/lib/python3.9/site-packages/stack_data/utils.py\", line 145, in cached_property_wrapper\n",
      "    value = obj.__dict__[self.func.__name__] = self.func(obj)\n",
      "  File \"/Applications/anaconda3/envs/kaggle_env/lib/python3.9/site-packages/stack_data/core.py\", line 681, in included_pieces\n",
      "    pos = scope_pieces.index(self.executing_piece)\n",
      "  File \"/Applications/anaconda3/envs/kaggle_env/lib/python3.9/site-packages/stack_data/utils.py\", line 145, in cached_property_wrapper\n",
      "    value = obj.__dict__[self.func.__name__] = self.func(obj)\n",
      "  File \"/Applications/anaconda3/envs/kaggle_env/lib/python3.9/site-packages/stack_data/core.py\", line 660, in executing_piece\n",
      "    return only(\n",
      "  File \"/Applications/anaconda3/envs/kaggle_env/lib/python3.9/site-packages/executing/executing.py\", line 116, in only\n",
      "    raise NotOneValueFound('Expected one value, found 0')\n",
      "executing.executing.NotOneValueFound: Expected one value, found 0\n"
     ]
    }
   ],
   "source": [
    "from RL import SarsaAgent\n",
    "\n",
    "# Create the environment\n",
    "env = gym.make(\"Taxi-v3\")\n",
    "\n",
    "# Create an instance of the SarsaAgent\n",
    "sarsa_agent = SarsaAgent(env)\n",
    "\n",
    "# Number of episodes to train\n",
    "num_episodes = 10000\n",
    "\n",
    "# Train the agent\n",
    "total_return = 0\n",
    "\n",
    "for episode in range(num_episodes):\n",
    "    G, _ = sarsa_agent.learn(nb_episode=1)  # Learn one episode at a time\n",
    "    total_return += G\n",
    "\n",
    "average_return = total_return / num_episodes\n",
    "print(\"Average Return after 10,000 episodes:\", average_return)"
   ]
  },
  {
   "cell_type": "code",
   "execution_count": 26,
   "metadata": {},
   "outputs": [
    {
     "ename": "NameError",
     "evalue": "name 'sarsa_agent' is not defined",
     "output_type": "error",
     "traceback": [
      "\u001b[0;31m---------------------------------------------------------------------------\u001b[0m",
      "\u001b[0;31mNameError\u001b[0m                                 Traceback (most recent call last)",
      "Cell \u001b[0;32mIn[26], line 20\u001b[0m\n\u001b[1;32m     17\u001b[0m     env\u001b[38;5;241m.\u001b[39mclose()\n\u001b[1;32m     19\u001b[0m \u001b[38;5;66;03m# Visualize the strategy in one episode\u001b[39;00m\n\u001b[0;32m---> 20\u001b[0m visualize_strategy(\u001b[43msarsa_agent\u001b[49m, env)\n",
      "\u001b[0;31mNameError\u001b[0m: name 'sarsa_agent' is not defined"
     ]
    }
   ],
   "source": [
    "import matplotlib.pyplot as plt\n",
    "\n",
    "# Function to visualize the strategy in one episode\n",
    "def visualize_strategy(agent, env):\n",
    "    state, _ = env.reset()\n",
    "    done = False\n",
    "    \n",
    "    # Render the environment\n",
    "    env.render()\n",
    "    \n",
    "    while not done:\n",
    "        action = agent.play_select_action(state)  # Use the agent's policy to select the action\n",
    "        state, reward, terminated, truncated, info = env.step(action)\n",
    "        done = terminated or truncated\n",
    "        env.render()  # Render the environment at each step\n",
    "        \n",
    "    env.close()\n",
    "\n",
    "# Visualize the strategy in one episode\n",
    "visualize_strategy(sarsa_agent, env)"
   ]
  },
  {
   "cell_type": "code",
   "execution_count": null,
   "metadata": {},
   "outputs": [],
   "source": []
  }
 ],
 "metadata": {
  "kernelspec": {
   "display_name": "kaggle_env",
   "language": "python",
   "name": "python3"
  },
  "language_info": {
   "codemirror_mode": {
    "name": "ipython",
    "version": 3
   },
   "file_extension": ".py",
   "mimetype": "text/x-python",
   "name": "python",
   "nbconvert_exporter": "python",
   "pygments_lexer": "ipython3",
   "version": "3.9.21"
  }
 },
 "nbformat": 4,
 "nbformat_minor": 2
}
